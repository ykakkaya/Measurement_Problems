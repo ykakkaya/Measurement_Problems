{
 "cells": [
  {
   "cell_type": "code",
   "execution_count": 48,
   "metadata": {},
   "outputs": [],
   "source": [
    "import pandas as pd\n",
    "from scipy.stats import ttest_1samp, shapiro, levene, ttest_ind, mannwhitneyu, \\\n",
    "    pearsonr, spearmanr, kendalltau, f_oneway, kruskal\n",
    "from statsmodels.stats.proportion import proportions_ztest"
   ]
  },
  {
   "cell_type": "markdown",
   "metadata": {},
   "source": [
    "# Görev 1: Veriyi Hazırlama ve Analiz Etme"
   ]
  },
  {
   "cell_type": "markdown",
   "metadata": {},
   "source": [
    "* Adım 1: ab_testing_data.xlsx adlı kontrol ve test grubu verilerinden oluşan veri setini okutunuz. Kontrol ve test grubu verilerini ayrı\n",
    "değişkenlere atayınız."
   ]
  },
  {
   "cell_type": "code",
   "execution_count": 49,
   "metadata": {},
   "outputs": [],
   "source": [
    "df_kontrol=pd.read_excel(\"ab_testing.xlsx\",sheet_name=\"Control Group\")"
   ]
  },
  {
   "cell_type": "code",
   "execution_count": 50,
   "metadata": {},
   "outputs": [
    {
     "data": {
      "text/html": [
       "<div>\n",
       "<style scoped>\n",
       "    .dataframe tbody tr th:only-of-type {\n",
       "        vertical-align: middle;\n",
       "    }\n",
       "\n",
       "    .dataframe tbody tr th {\n",
       "        vertical-align: top;\n",
       "    }\n",
       "\n",
       "    .dataframe thead th {\n",
       "        text-align: right;\n",
       "    }\n",
       "</style>\n",
       "<table border=\"1\" class=\"dataframe\">\n",
       "  <thead>\n",
       "    <tr style=\"text-align: right;\">\n",
       "      <th></th>\n",
       "      <th>Impression</th>\n",
       "      <th>Click</th>\n",
       "      <th>Purchase</th>\n",
       "      <th>Earning</th>\n",
       "    </tr>\n",
       "  </thead>\n",
       "  <tbody>\n",
       "    <tr>\n",
       "      <th>0</th>\n",
       "      <td>82529.459271</td>\n",
       "      <td>6090.077317</td>\n",
       "      <td>665.211255</td>\n",
       "      <td>2311.277143</td>\n",
       "    </tr>\n",
       "    <tr>\n",
       "      <th>1</th>\n",
       "      <td>98050.451926</td>\n",
       "      <td>3382.861786</td>\n",
       "      <td>315.084895</td>\n",
       "      <td>1742.806855</td>\n",
       "    </tr>\n",
       "    <tr>\n",
       "      <th>2</th>\n",
       "      <td>82696.023549</td>\n",
       "      <td>4167.965750</td>\n",
       "      <td>458.083738</td>\n",
       "      <td>1797.827447</td>\n",
       "    </tr>\n",
       "    <tr>\n",
       "      <th>3</th>\n",
       "      <td>109914.400398</td>\n",
       "      <td>4910.882240</td>\n",
       "      <td>487.090773</td>\n",
       "      <td>1696.229178</td>\n",
       "    </tr>\n",
       "    <tr>\n",
       "      <th>4</th>\n",
       "      <td>108457.762630</td>\n",
       "      <td>5987.655811</td>\n",
       "      <td>441.034050</td>\n",
       "      <td>1543.720179</td>\n",
       "    </tr>\n",
       "  </tbody>\n",
       "</table>\n",
       "</div>"
      ],
      "text/plain": [
       "      Impression        Click    Purchase      Earning\n",
       "0   82529.459271  6090.077317  665.211255  2311.277143\n",
       "1   98050.451926  3382.861786  315.084895  1742.806855\n",
       "2   82696.023549  4167.965750  458.083738  1797.827447\n",
       "3  109914.400398  4910.882240  487.090773  1696.229178\n",
       "4  108457.762630  5987.655811  441.034050  1543.720179"
      ]
     },
     "execution_count": 50,
     "metadata": {},
     "output_type": "execute_result"
    }
   ],
   "source": [
    "df_kontrol.head()"
   ]
  },
  {
   "cell_type": "code",
   "execution_count": 51,
   "metadata": {},
   "outputs": [],
   "source": [
    "df_test=pd.read_excel(\"ab_testing.xlsx\",sheet_name=\"Test Group\")"
   ]
  },
  {
   "cell_type": "code",
   "execution_count": 52,
   "metadata": {},
   "outputs": [
    {
     "data": {
      "text/html": [
       "<div>\n",
       "<style scoped>\n",
       "    .dataframe tbody tr th:only-of-type {\n",
       "        vertical-align: middle;\n",
       "    }\n",
       "\n",
       "    .dataframe tbody tr th {\n",
       "        vertical-align: top;\n",
       "    }\n",
       "\n",
       "    .dataframe thead th {\n",
       "        text-align: right;\n",
       "    }\n",
       "</style>\n",
       "<table border=\"1\" class=\"dataframe\">\n",
       "  <thead>\n",
       "    <tr style=\"text-align: right;\">\n",
       "      <th></th>\n",
       "      <th>Impression</th>\n",
       "      <th>Click</th>\n",
       "      <th>Purchase</th>\n",
       "      <th>Earning</th>\n",
       "    </tr>\n",
       "  </thead>\n",
       "  <tbody>\n",
       "    <tr>\n",
       "      <th>0</th>\n",
       "      <td>120103.503796</td>\n",
       "      <td>3216.547958</td>\n",
       "      <td>702.160346</td>\n",
       "      <td>1939.611243</td>\n",
       "    </tr>\n",
       "    <tr>\n",
       "      <th>1</th>\n",
       "      <td>134775.943363</td>\n",
       "      <td>3635.082422</td>\n",
       "      <td>834.054286</td>\n",
       "      <td>2929.405820</td>\n",
       "    </tr>\n",
       "    <tr>\n",
       "      <th>2</th>\n",
       "      <td>107806.620788</td>\n",
       "      <td>3057.143560</td>\n",
       "      <td>422.934258</td>\n",
       "      <td>2526.244877</td>\n",
       "    </tr>\n",
       "    <tr>\n",
       "      <th>3</th>\n",
       "      <td>116445.275526</td>\n",
       "      <td>4650.473911</td>\n",
       "      <td>429.033535</td>\n",
       "      <td>2281.428574</td>\n",
       "    </tr>\n",
       "    <tr>\n",
       "      <th>4</th>\n",
       "      <td>145082.516838</td>\n",
       "      <td>5201.387724</td>\n",
       "      <td>749.860442</td>\n",
       "      <td>2781.697521</td>\n",
       "    </tr>\n",
       "  </tbody>\n",
       "</table>\n",
       "</div>"
      ],
      "text/plain": [
       "      Impression        Click    Purchase      Earning\n",
       "0  120103.503796  3216.547958  702.160346  1939.611243\n",
       "1  134775.943363  3635.082422  834.054286  2929.405820\n",
       "2  107806.620788  3057.143560  422.934258  2526.244877\n",
       "3  116445.275526  4650.473911  429.033535  2281.428574\n",
       "4  145082.516838  5201.387724  749.860442  2781.697521"
      ]
     },
     "execution_count": 52,
     "metadata": {},
     "output_type": "execute_result"
    }
   ],
   "source": [
    "df_test.head()"
   ]
  },
  {
   "cell_type": "markdown",
   "metadata": {},
   "source": [
    "* Adım 2: Kontrol ve test grubu verilerini analiz ediniz."
   ]
  },
  {
   "cell_type": "code",
   "execution_count": 53,
   "metadata": {},
   "outputs": [
    {
     "data": {
      "text/html": [
       "<div>\n",
       "<style scoped>\n",
       "    .dataframe tbody tr th:only-of-type {\n",
       "        vertical-align: middle;\n",
       "    }\n",
       "\n",
       "    .dataframe tbody tr th {\n",
       "        vertical-align: top;\n",
       "    }\n",
       "\n",
       "    .dataframe thead th {\n",
       "        text-align: right;\n",
       "    }\n",
       "</style>\n",
       "<table border=\"1\" class=\"dataframe\">\n",
       "  <thead>\n",
       "    <tr style=\"text-align: right;\">\n",
       "      <th></th>\n",
       "      <th>count</th>\n",
       "      <th>mean</th>\n",
       "      <th>std</th>\n",
       "      <th>min</th>\n",
       "      <th>25%</th>\n",
       "      <th>50%</th>\n",
       "      <th>75%</th>\n",
       "      <th>max</th>\n",
       "    </tr>\n",
       "  </thead>\n",
       "  <tbody>\n",
       "    <tr>\n",
       "      <th>Impression</th>\n",
       "      <td>40.0</td>\n",
       "      <td>120512.411758</td>\n",
       "      <td>18807.448712</td>\n",
       "      <td>79033.834921</td>\n",
       "      <td>112691.970770</td>\n",
       "      <td>119291.300775</td>\n",
       "      <td>132050.578933</td>\n",
       "      <td>158605.920483</td>\n",
       "    </tr>\n",
       "    <tr>\n",
       "      <th>Click</th>\n",
       "      <td>40.0</td>\n",
       "      <td>3967.549761</td>\n",
       "      <td>923.095073</td>\n",
       "      <td>1836.629861</td>\n",
       "      <td>3376.819024</td>\n",
       "      <td>3931.359804</td>\n",
       "      <td>4660.497911</td>\n",
       "      <td>6019.695079</td>\n",
       "    </tr>\n",
       "    <tr>\n",
       "      <th>Purchase</th>\n",
       "      <td>40.0</td>\n",
       "      <td>582.106097</td>\n",
       "      <td>161.152513</td>\n",
       "      <td>311.629515</td>\n",
       "      <td>444.626828</td>\n",
       "      <td>551.355732</td>\n",
       "      <td>699.862360</td>\n",
       "      <td>889.910460</td>\n",
       "    </tr>\n",
       "    <tr>\n",
       "      <th>Earning</th>\n",
       "      <td>40.0</td>\n",
       "      <td>2514.890733</td>\n",
       "      <td>282.730852</td>\n",
       "      <td>1939.611243</td>\n",
       "      <td>2280.537426</td>\n",
       "      <td>2544.666107</td>\n",
       "      <td>2761.545405</td>\n",
       "      <td>3171.489708</td>\n",
       "    </tr>\n",
       "  </tbody>\n",
       "</table>\n",
       "</div>"
      ],
      "text/plain": [
       "            count           mean           std           min            25%  \\\n",
       "Impression   40.0  120512.411758  18807.448712  79033.834921  112691.970770   \n",
       "Click        40.0    3967.549761    923.095073   1836.629861    3376.819024   \n",
       "Purchase     40.0     582.106097    161.152513    311.629515     444.626828   \n",
       "Earning      40.0    2514.890733    282.730852   1939.611243    2280.537426   \n",
       "\n",
       "                      50%            75%            max  \n",
       "Impression  119291.300775  132050.578933  158605.920483  \n",
       "Click         3931.359804    4660.497911    6019.695079  \n",
       "Purchase       551.355732     699.862360     889.910460  \n",
       "Earning       2544.666107    2761.545405    3171.489708  "
      ]
     },
     "execution_count": 53,
     "metadata": {},
     "output_type": "execute_result"
    }
   ],
   "source": [
    "df_test.describe().T"
   ]
  },
  {
   "cell_type": "code",
   "execution_count": 54,
   "metadata": {},
   "outputs": [
    {
     "data": {
      "text/html": [
       "<div>\n",
       "<style scoped>\n",
       "    .dataframe tbody tr th:only-of-type {\n",
       "        vertical-align: middle;\n",
       "    }\n",
       "\n",
       "    .dataframe tbody tr th {\n",
       "        vertical-align: top;\n",
       "    }\n",
       "\n",
       "    .dataframe thead th {\n",
       "        text-align: right;\n",
       "    }\n",
       "</style>\n",
       "<table border=\"1\" class=\"dataframe\">\n",
       "  <thead>\n",
       "    <tr style=\"text-align: right;\">\n",
       "      <th></th>\n",
       "      <th>count</th>\n",
       "      <th>mean</th>\n",
       "      <th>std</th>\n",
       "      <th>min</th>\n",
       "      <th>25%</th>\n",
       "      <th>50%</th>\n",
       "      <th>75%</th>\n",
       "      <th>max</th>\n",
       "    </tr>\n",
       "  </thead>\n",
       "  <tbody>\n",
       "    <tr>\n",
       "      <th>Impression</th>\n",
       "      <td>40.0</td>\n",
       "      <td>101711.449068</td>\n",
       "      <td>20302.157862</td>\n",
       "      <td>45475.942965</td>\n",
       "      <td>85726.690349</td>\n",
       "      <td>99790.701078</td>\n",
       "      <td>115212.816543</td>\n",
       "      <td>147539.336329</td>\n",
       "    </tr>\n",
       "    <tr>\n",
       "      <th>Click</th>\n",
       "      <td>40.0</td>\n",
       "      <td>5100.657373</td>\n",
       "      <td>1329.985498</td>\n",
       "      <td>2189.753157</td>\n",
       "      <td>4124.304129</td>\n",
       "      <td>5001.220602</td>\n",
       "      <td>5923.803596</td>\n",
       "      <td>7959.125069</td>\n",
       "    </tr>\n",
       "    <tr>\n",
       "      <th>Purchase</th>\n",
       "      <td>40.0</td>\n",
       "      <td>550.894059</td>\n",
       "      <td>134.108201</td>\n",
       "      <td>267.028943</td>\n",
       "      <td>470.095533</td>\n",
       "      <td>531.206307</td>\n",
       "      <td>637.957088</td>\n",
       "      <td>801.795020</td>\n",
       "    </tr>\n",
       "    <tr>\n",
       "      <th>Earning</th>\n",
       "      <td>40.0</td>\n",
       "      <td>1908.568300</td>\n",
       "      <td>302.917783</td>\n",
       "      <td>1253.989525</td>\n",
       "      <td>1685.847205</td>\n",
       "      <td>1975.160522</td>\n",
       "      <td>2119.802784</td>\n",
       "      <td>2497.295218</td>\n",
       "    </tr>\n",
       "  </tbody>\n",
       "</table>\n",
       "</div>"
      ],
      "text/plain": [
       "            count           mean           std           min           25%  \\\n",
       "Impression   40.0  101711.449068  20302.157862  45475.942965  85726.690349   \n",
       "Click        40.0    5100.657373   1329.985498   2189.753157   4124.304129   \n",
       "Purchase     40.0     550.894059    134.108201    267.028943    470.095533   \n",
       "Earning      40.0    1908.568300    302.917783   1253.989525   1685.847205   \n",
       "\n",
       "                     50%            75%            max  \n",
       "Impression  99790.701078  115212.816543  147539.336329  \n",
       "Click        5001.220602    5923.803596    7959.125069  \n",
       "Purchase      531.206307     637.957088     801.795020  \n",
       "Earning      1975.160522    2119.802784    2497.295218  "
      ]
     },
     "execution_count": 54,
     "metadata": {},
     "output_type": "execute_result"
    }
   ],
   "source": [
    "df_kontrol.describe().T"
   ]
  },
  {
   "cell_type": "code",
   "execution_count": 55,
   "metadata": {},
   "outputs": [
    {
     "name": "stdout",
     "output_type": "stream",
     "text": [
      "<class 'pandas.core.frame.DataFrame'>\n",
      "RangeIndex: 40 entries, 0 to 39\n",
      "Data columns (total 4 columns):\n",
      " #   Column      Non-Null Count  Dtype  \n",
      "---  ------      --------------  -----  \n",
      " 0   Impression  40 non-null     float64\n",
      " 1   Click       40 non-null     float64\n",
      " 2   Purchase    40 non-null     float64\n",
      " 3   Earning     40 non-null     float64\n",
      "dtypes: float64(4)\n",
      "memory usage: 1.4 KB\n"
     ]
    }
   ],
   "source": [
    "df_test.info()"
   ]
  },
  {
   "cell_type": "code",
   "execution_count": 56,
   "metadata": {},
   "outputs": [
    {
     "name": "stdout",
     "output_type": "stream",
     "text": [
      "<class 'pandas.core.frame.DataFrame'>\n",
      "RangeIndex: 40 entries, 0 to 39\n",
      "Data columns (total 4 columns):\n",
      " #   Column      Non-Null Count  Dtype  \n",
      "---  ------      --------------  -----  \n",
      " 0   Impression  40 non-null     float64\n",
      " 1   Click       40 non-null     float64\n",
      " 2   Purchase    40 non-null     float64\n",
      " 3   Earning     40 non-null     float64\n",
      "dtypes: float64(4)\n",
      "memory usage: 1.4 KB\n"
     ]
    }
   ],
   "source": [
    "df_kontrol.info()"
   ]
  },
  {
   "cell_type": "markdown",
   "metadata": {},
   "source": [
    "* Adım 3: Analiz işleminden sonra concat metodunu kullanarak kontrol ve test grubu verilerini birleştiriniz."
   ]
  },
  {
   "cell_type": "code",
   "execution_count": 57,
   "metadata": {},
   "outputs": [],
   "source": [
    "# İki farklı veri setini tek bir veri setinde birleştireceğimiz için gözlemlerin hangi veriden geldiğini\n",
    "# belirtmek amacıyla yeni bir sütun oluşturduk.\n",
    "df_kontrol['source'] = 'max'\n",
    "df_test['source'] = 'average'"
   ]
  },
  {
   "cell_type": "code",
   "execution_count": 58,
   "metadata": {},
   "outputs": [],
   "source": [
    "df=pd.concat([df_kontrol,df_test])"
   ]
  },
  {
   "cell_type": "code",
   "execution_count": 59,
   "metadata": {},
   "outputs": [
    {
     "data": {
      "text/html": [
       "<div>\n",
       "<style scoped>\n",
       "    .dataframe tbody tr th:only-of-type {\n",
       "        vertical-align: middle;\n",
       "    }\n",
       "\n",
       "    .dataframe tbody tr th {\n",
       "        vertical-align: top;\n",
       "    }\n",
       "\n",
       "    .dataframe thead th {\n",
       "        text-align: right;\n",
       "    }\n",
       "</style>\n",
       "<table border=\"1\" class=\"dataframe\">\n",
       "  <thead>\n",
       "    <tr style=\"text-align: right;\">\n",
       "      <th></th>\n",
       "      <th>Impression</th>\n",
       "      <th>Click</th>\n",
       "      <th>Purchase</th>\n",
       "      <th>Earning</th>\n",
       "      <th>source</th>\n",
       "    </tr>\n",
       "  </thead>\n",
       "  <tbody>\n",
       "    <tr>\n",
       "      <th>0</th>\n",
       "      <td>82529.459271</td>\n",
       "      <td>6090.077317</td>\n",
       "      <td>665.211255</td>\n",
       "      <td>2311.277143</td>\n",
       "      <td>max</td>\n",
       "    </tr>\n",
       "    <tr>\n",
       "      <th>1</th>\n",
       "      <td>98050.451926</td>\n",
       "      <td>3382.861786</td>\n",
       "      <td>315.084895</td>\n",
       "      <td>1742.806855</td>\n",
       "      <td>max</td>\n",
       "    </tr>\n",
       "    <tr>\n",
       "      <th>2</th>\n",
       "      <td>82696.023549</td>\n",
       "      <td>4167.965750</td>\n",
       "      <td>458.083738</td>\n",
       "      <td>1797.827447</td>\n",
       "      <td>max</td>\n",
       "    </tr>\n",
       "    <tr>\n",
       "      <th>3</th>\n",
       "      <td>109914.400398</td>\n",
       "      <td>4910.882240</td>\n",
       "      <td>487.090773</td>\n",
       "      <td>1696.229178</td>\n",
       "      <td>max</td>\n",
       "    </tr>\n",
       "    <tr>\n",
       "      <th>4</th>\n",
       "      <td>108457.762630</td>\n",
       "      <td>5987.655811</td>\n",
       "      <td>441.034050</td>\n",
       "      <td>1543.720179</td>\n",
       "      <td>max</td>\n",
       "    </tr>\n",
       "  </tbody>\n",
       "</table>\n",
       "</div>"
      ],
      "text/plain": [
       "      Impression        Click    Purchase      Earning source\n",
       "0   82529.459271  6090.077317  665.211255  2311.277143    max\n",
       "1   98050.451926  3382.861786  315.084895  1742.806855    max\n",
       "2   82696.023549  4167.965750  458.083738  1797.827447    max\n",
       "3  109914.400398  4910.882240  487.090773  1696.229178    max\n",
       "4  108457.762630  5987.655811  441.034050  1543.720179    max"
      ]
     },
     "execution_count": 59,
     "metadata": {},
     "output_type": "execute_result"
    }
   ],
   "source": [
    "df.head()"
   ]
  },
  {
   "cell_type": "code",
   "execution_count": 71,
   "metadata": {},
   "outputs": [
    {
     "data": {
      "text/html": [
       "<div>\n",
       "<style scoped>\n",
       "    .dataframe tbody tr th:only-of-type {\n",
       "        vertical-align: middle;\n",
       "    }\n",
       "\n",
       "    .dataframe tbody tr th {\n",
       "        vertical-align: top;\n",
       "    }\n",
       "\n",
       "    .dataframe thead th {\n",
       "        text-align: right;\n",
       "    }\n",
       "</style>\n",
       "<table border=\"1\" class=\"dataframe\">\n",
       "  <thead>\n",
       "    <tr style=\"text-align: right;\">\n",
       "      <th></th>\n",
       "      <th>Impression</th>\n",
       "      <th>Click</th>\n",
       "      <th>Purchase</th>\n",
       "      <th>Earning</th>\n",
       "      <th>source</th>\n",
       "    </tr>\n",
       "  </thead>\n",
       "  <tbody>\n",
       "    <tr>\n",
       "      <th>35</th>\n",
       "      <td>79234.911929</td>\n",
       "      <td>6002.213585</td>\n",
       "      <td>382.047116</td>\n",
       "      <td>2277.863984</td>\n",
       "      <td>average</td>\n",
       "    </tr>\n",
       "    <tr>\n",
       "      <th>36</th>\n",
       "      <td>130702.239410</td>\n",
       "      <td>3626.320072</td>\n",
       "      <td>449.824592</td>\n",
       "      <td>2530.841327</td>\n",
       "      <td>average</td>\n",
       "    </tr>\n",
       "    <tr>\n",
       "      <th>37</th>\n",
       "      <td>116481.873365</td>\n",
       "      <td>4702.782468</td>\n",
       "      <td>472.453725</td>\n",
       "      <td>2597.917632</td>\n",
       "      <td>average</td>\n",
       "    </tr>\n",
       "    <tr>\n",
       "      <th>38</th>\n",
       "      <td>79033.834921</td>\n",
       "      <td>4495.428177</td>\n",
       "      <td>425.359102</td>\n",
       "      <td>2595.857880</td>\n",
       "      <td>average</td>\n",
       "    </tr>\n",
       "    <tr>\n",
       "      <th>39</th>\n",
       "      <td>102257.454089</td>\n",
       "      <td>4800.068321</td>\n",
       "      <td>521.310729</td>\n",
       "      <td>2967.518390</td>\n",
       "      <td>average</td>\n",
       "    </tr>\n",
       "  </tbody>\n",
       "</table>\n",
       "</div>"
      ],
      "text/plain": [
       "       Impression        Click    Purchase      Earning   source\n",
       "35   79234.911929  6002.213585  382.047116  2277.863984  average\n",
       "36  130702.239410  3626.320072  449.824592  2530.841327  average\n",
       "37  116481.873365  4702.782468  472.453725  2597.917632  average\n",
       "38   79033.834921  4495.428177  425.359102  2595.857880  average\n",
       "39  102257.454089  4800.068321  521.310729  2967.518390  average"
      ]
     },
     "execution_count": 71,
     "metadata": {},
     "output_type": "execute_result"
    }
   ],
   "source": [
    "df.tail()"
   ]
  },
  {
   "cell_type": "code",
   "execution_count": 60,
   "metadata": {},
   "outputs": [
    {
     "name": "stdout",
     "output_type": "stream",
     "text": [
      "<class 'pandas.core.frame.DataFrame'>\n",
      "Int64Index: 80 entries, 0 to 39\n",
      "Data columns (total 5 columns):\n",
      " #   Column      Non-Null Count  Dtype  \n",
      "---  ------      --------------  -----  \n",
      " 0   Impression  80 non-null     float64\n",
      " 1   Click       80 non-null     float64\n",
      " 2   Purchase    80 non-null     float64\n",
      " 3   Earning     80 non-null     float64\n",
      " 4   source      80 non-null     object \n",
      "dtypes: float64(4), object(1)\n",
      "memory usage: 3.8+ KB\n"
     ]
    }
   ],
   "source": [
    "df.info()"
   ]
  },
  {
   "cell_type": "markdown",
   "metadata": {},
   "source": [
    "# Görev 2: A/B Testinin Hipotezinin Tanımlanması"
   ]
  },
  {
   "cell_type": "markdown",
   "metadata": {},
   "source": [
    "* Adım 1: Hipotezi tanımlayınız.\n",
    "* H0 : M1 = M2\n",
    "* H1 : M1!= M2"
   ]
  },
  {
   "cell_type": "markdown",
   "metadata": {},
   "source": [
    "* Adım 2: Kontrol ve test grubu için purchase (kazanç) ortalamalarını analiz ediniz."
   ]
  },
  {
   "cell_type": "code",
   "execution_count": 61,
   "metadata": {},
   "outputs": [
    {
     "data": {
      "text/plain": [
       "550.8940587702316"
      ]
     },
     "execution_count": 61,
     "metadata": {},
     "output_type": "execute_result"
    }
   ],
   "source": [
    "df_kontrol[\"Purchase\"].mean()"
   ]
  },
  {
   "cell_type": "code",
   "execution_count": 62,
   "metadata": {},
   "outputs": [
    {
     "data": {
      "text/plain": [
       "550.8940587702316"
      ]
     },
     "execution_count": 62,
     "metadata": {},
     "output_type": "execute_result"
    }
   ],
   "source": [
    "df.loc[df[\"source\"]==\"max\",\"Purchase\"].mean()"
   ]
  },
  {
   "cell_type": "code",
   "execution_count": 63,
   "metadata": {},
   "outputs": [
    {
     "data": {
      "text/plain": [
       "582.1060966484677"
      ]
     },
     "execution_count": 63,
     "metadata": {},
     "output_type": "execute_result"
    }
   ],
   "source": [
    "df_test[\"Purchase\"].mean()"
   ]
  },
  {
   "cell_type": "code",
   "execution_count": 64,
   "metadata": {},
   "outputs": [
    {
     "data": {
      "text/plain": [
       "582.1060966484677"
      ]
     },
     "execution_count": 64,
     "metadata": {},
     "output_type": "execute_result"
    }
   ],
   "source": [
    "df.loc[df[\"source\"]==\"average\",\"Purchase\"].mean()"
   ]
  },
  {
   "cell_type": "code",
   "execution_count": 65,
   "metadata": {},
   "outputs": [
    {
     "data": {
      "text/plain": [
       "566.5000777093495"
      ]
     },
     "execution_count": 65,
     "metadata": {},
     "output_type": "execute_result"
    }
   ],
   "source": [
    "df[\"Purchase\"].mean()"
   ]
  },
  {
   "cell_type": "markdown",
   "metadata": {},
   "source": [
    "# Görev 3: Hipotez Testinin Gerçekleştirilmesi"
   ]
  },
  {
   "cell_type": "markdown",
   "metadata": {},
   "source": [
    "* Adım 1: Hipotez testi yapılmadan önce varsayım kontrollerini yapınız.\n",
    "Bunlar Normallik Varsayımı ve Varyans Homojenliğidir. Kontrol ve test grubunun normallik varsayımına uyup uymadığını Purchase değişkeni\n",
    "üzerinden ayrı ayrı test ediniz."
   ]
  },
  {
   "cell_type": "markdown",
   "metadata": {},
   "source": [
    "* _Normallik Varsayımı_ :\n",
    "* H0: Normal dağılım varsayımı sağlanmaktadır.\n",
    "* H1: Normal dağılım varsayımı sağlanmamaktadır.\n",
    "* p < 0.05 H0 RED , p > 0.05 H0 REDDEDİLEMEZ\n",
    "* Test sonucuna göre normallik varsayımı kontrol ve test grupları için sağlanıyor mu ? Elde edilen p-value değerlerini yorumlayınız."
   ]
  },
  {
   "cell_type": "markdown",
   "metadata": {},
   "source": [
    "* _Varyans Homojenliği_ :\n",
    "* H0: Varyanslar homojendir.\n",
    "* H1: Varyanslar homojen Değildir.\n",
    "* p < 0.05 H0 RED , p > 0.05 H0 REDDEDİLEMEZ\n",
    "* Kontrol ve test grubu için varyans homojenliğinin sağlanıp sağlanmadığını Purchase değişkeni üzerinden test ediniz.\n",
    "* Test sonucuna göre normallik varsayımı sağlanıyor mu? Elde edilen p-value değerlerini yorumlayınız.\n",
    "### Adım 2: Normallik Varsayımı ve Varyans Homojenliği sonuçlarına göre uygun testi seçiniz."
   ]
  },
  {
   "cell_type": "code",
   "execution_count": 66,
   "metadata": {},
   "outputs": [],
   "source": [
    "test_stat, pvalue = shapiro(df.loc[df['source'] == 'max', 'Purchase'])"
   ]
  },
  {
   "cell_type": "code",
   "execution_count": 67,
   "metadata": {},
   "outputs": [
    {
     "data": {
      "text/plain": [
       "0.5891125202178955"
      ]
     },
     "execution_count": 67,
     "metadata": {},
     "output_type": "execute_result"
    }
   ],
   "source": [
    "pvalue"
   ]
  },
  {
   "cell_type": "code",
   "execution_count": 68,
   "metadata": {},
   "outputs": [
    {
     "data": {
      "text/plain": [
       "0.15413342416286469"
      ]
     },
     "execution_count": 68,
     "metadata": {},
     "output_type": "execute_result"
    }
   ],
   "source": [
    "test_stat, pvalue = shapiro(df.loc[df['source'] == 'average', 'Purchase'])\n",
    "pvalue"
   ]
  },
  {
   "cell_type": "markdown",
   "metadata": {},
   "source": [
    "* Kontrol grubu için p değeri 0.5891'dir.  p > 0.05 olduğu için HO reddedilemez. Dolayısıyla normallik varsayımı\n",
    " karşılanmış olur.\n",
    "\n",
    "* Test grubu için p değeri 0.1541'dir.  p > 0.05 olduğu için HO reddedilemez. Dolayısıyla normallik varsayımı\n",
    " karşılanmış olur."
   ]
  },
  {
   "cell_type": "code",
   "execution_count": 69,
   "metadata": {},
   "outputs": [
    {
     "data": {
      "text/plain": [
       "0.10828588271874791"
      ]
     },
     "execution_count": 69,
     "metadata": {},
     "output_type": "execute_result"
    }
   ],
   "source": [
    "test_stat, pvalue = levene(df.loc[df['source'] == 'max', 'Purchase'],\n",
    "                           df.loc[df['source'] == 'average', 'Purchase'])\n",
    "pvalue"
   ]
  },
  {
   "cell_type": "markdown",
   "metadata": {},
   "source": [
    "* p değeri 0.1083'tür. Dolayısıyla HO reddedilemez . Varyanslar homojendir"
   ]
  },
  {
   "cell_type": "markdown",
   "metadata": {},
   "source": [
    "### Adım 3: Test sonucunda elde edilen p_value değerini göz önünde bulundurarak kontrol ve test grubu satın alma ortalamaları arasında istatistiki olarak anlamlı bir fark olup olmadığını yorumlayınız."
   ]
  },
  {
   "cell_type": "code",
   "execution_count": 70,
   "metadata": {},
   "outputs": [
    {
     "data": {
      "text/plain": [
       "0.34932579202108416"
      ]
     },
     "execution_count": 70,
     "metadata": {},
     "output_type": "execute_result"
    }
   ],
   "source": [
    "test_stat, pvalue = ttest_ind(df.loc[df['source'] == 'max', 'Purchase'],\n",
    "                              df.loc[df['source'] == 'average', 'Purchase'],\n",
    "                              equal_var=True)\n",
    "pvalue"
   ]
  },
  {
   "cell_type": "markdown",
   "metadata": {},
   "source": [
    "* P değeri 0.3493'tür. p > 0.05 olduğu için H0 reddedilemez.\n",
    "* H0 hipotezi reddedilemediği için iki grup arasında istatistiki olarak anlamlı bir farklılık bulunmamaktadır.\n",
    "* Ortalamalar arasındaki farklar tesadüftür."
   ]
  },
  {
   "cell_type": "markdown",
   "metadata": {},
   "source": [
    "# Görev 4: Sonuçların Analizi\n",
    "* Normallik ve homojenlik varsayımlarının yaptığımız testler sonucunda sağlandığı görülmektedir.\n",
    "* Bu iki varsayımın karşılandığı koşullarda uygulayabileceğimiz bağımsız iki örneklem t testi ( parametrik test )\n",
    " bu çalışma için uygun görülmüştür.\n",
    "\n",
    "* İşletmenin başarı ölçütü olarak belirlediği Purchase değişkeninde istatistiki olarak anlamlı bir gelişme kaydedilmediği görülmektedir. Bir süre daha bu değişken özelinde AB testleri yapılabilir ve gelişme kaydedilip kaydedilmediği gözlemlenmeye devam edilebilir.Mevcut koşullarda yeni teklif türünün daha avantajlı olduğunu bilimsel açıdan söyleyemeyiz"
   ]
  },
  {
   "cell_type": "markdown",
   "metadata": {},
   "source": []
  }
 ],
 "metadata": {
  "kernelspec": {
   "display_name": "Python 3.10.8 64-bit",
   "language": "python",
   "name": "python3"
  },
  "language_info": {
   "codemirror_mode": {
    "name": "ipython",
    "version": 3
   },
   "file_extension": ".py",
   "mimetype": "text/x-python",
   "name": "python",
   "nbconvert_exporter": "python",
   "pygments_lexer": "ipython3",
   "version": "3.10.8"
  },
  "orig_nbformat": 4,
  "vscode": {
   "interpreter": {
    "hash": "8c3d4d9970fc5c09c50d9318a9c7fbf4d0159e4b28833276f5678ee22bded273"
   }
  }
 },
 "nbformat": 4,
 "nbformat_minor": 2
}
